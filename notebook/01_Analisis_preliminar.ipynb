{
 "cells": [
  {
   "cell_type": "markdown",
   "id": "d6453d9f",
   "metadata": {},
   "source": [
    "## Importación de librearías\n"
   ]
  },
  {
   "cell_type": "code",
   "execution_count": 6,
   "id": "eddc2337",
   "metadata": {},
   "outputs": [],
   "source": [
    "import pandas as pd\n",
    "import numpy as np\n",
    "import os"
   ]
  },
  {
   "cell_type": "markdown",
   "id": "6291f921",
   "metadata": {},
   "source": [
    "## Carga de datos"
   ]
  },
  {
   "cell_type": "code",
   "execution_count": null,
   "id": "0c09f983",
   "metadata": {},
   "outputs": [
    {
     "name": "stdout",
     "output_type": "stream",
     "text": [
      "   Unnamed: 0  Income  Kidhome  Teenhome Dt_Customer  NumWebVisitsMonth  \\\n",
      "0           0  161770        1         0  2012-04-04                 29   \n",
      "1           1   85477        1         1  2012-12-30                  7   \n",
      "2           2  147233        1         1  2012-02-02                  5   \n",
      "3           3  121393        1         2  2012-12-21                 29   \n",
      "4           4   63164        1         2  2012-06-20                 20   \n",
      "\n",
      "                                     ID  \n",
      "0  089b39d8-e4d0-461b-87d4-814d71e0e079  \n",
      "1  e9d37224-cb6f-4942-98d7-46672963d097  \n",
      "2  3f9f49b5-e410-4948-bf6e-f9244f04918b  \n",
      "3  9991fafb-4447-451a-8be2-b0df6098d13e  \n",
      "4  eca60b76-70b6-4077-80ba-bc52e8ebb0eb  \n"
     ]
    }
   ],
   "source": [
    "ruta_customer = r\"C:\\Users\\HUGO\\Desktop\\Data Analyst\\09_PYTHON\\Proyecto_Python_Data\\data\\Archivos_origen\\customer-details.xlsx\"\n",
    "df_customer = pd.read_excel(ruta_customer)\n",
    "print(df_customer.head())\n",
    "\n",
    "\n"
   ]
  },
  {
   "cell_type": "code",
   "execution_count": 23,
   "id": "c7fb6359",
   "metadata": {},
   "outputs": [
    {
     "name": "stdout",
     "output_type": "stream",
     "text": [
      "   Unnamed: 0   age        job  marital    education  default  housing  loan  \\\n",
      "0           0   NaN  housemaid  MARRIED     basic.4y      0.0      0.0   0.0   \n",
      "1           1  57.0   services  MARRIED  high.school      NaN      0.0   0.0   \n",
      "2           2  37.0   services  MARRIED  high.school      0.0      1.0   0.0   \n",
      "3           3  40.0     admin.  MARRIED     basic.6y      0.0      0.0   0.0   \n",
      "4           4  56.0   services  MARRIED  high.school      0.0      0.0   1.0   \n",
      "\n",
      "     contact  duration  ...  emp.var.rate  cons.price.idx  cons.conf.idx  \\\n",
      "0  telephone       261  ...           1.1          93,994          -36,4   \n",
      "1  telephone       149  ...           1.1          93,994          -36,4   \n",
      "2  telephone       226  ...           1.1          93,994          -36,4   \n",
      "3  telephone       151  ...           1.1          93,994          -36,4   \n",
      "4  telephone       307  ...           1.1          93,994          -36,4   \n",
      "\n",
      "  euribor3m  nr.employed   y                date latitude longitude  \\\n",
      "0     4,857         5191  no       2-agosto-2019   41.495   -71.233   \n",
      "1       NaN         5191  no  14-septiembre-2016   34.601   -83.923   \n",
      "2     4,857         5191  no     15-febrero-2019   34.939   -94.847   \n",
      "3       NaN         5191  no   29-noviembre-2015   49.041   -70.308   \n",
      "4       NaN         5191  no       29-enero-2017   38.033  -104.463   \n",
      "\n",
      "                                    id_  \n",
      "0  089b39d8-e4d0-461b-87d4-814d71e0e079  \n",
      "1  e9d37224-cb6f-4942-98d7-46672963d097  \n",
      "2  3f9f49b5-e410-4948-bf6e-f9244f04918b  \n",
      "3  9991fafb-4447-451a-8be2-b0df6098d13e  \n",
      "4  eca60b76-70b6-4077-80ba-bc52e8ebb0eb  \n",
      "\n",
      "[5 rows x 24 columns]\n"
     ]
    }
   ],
   "source": [
    "ruta_bank = r\"C:\\Users\\HUGO\\Desktop\\Data Analyst\\09_PYTHON\\Proyecto_Python_Data\\data\\Archivos_origen\\bank-additional.csv\"\n",
    "df_bank = pd.read_csv(ruta_bank)\n",
    "print(df_bank.head())"
   ]
  },
  {
   "cell_type": "code",
   "execution_count": null,
   "id": "25248a7b",
   "metadata": {},
   "outputs": [],
   "source": []
  }
 ],
 "metadata": {
  "kernelspec": {
   "display_name": "Python 3",
   "language": "python",
   "name": "python3"
  },
  "language_info": {
   "codemirror_mode": {
    "name": "ipython",
    "version": 3
   },
   "file_extension": ".py",
   "mimetype": "text/x-python",
   "name": "python",
   "nbconvert_exporter": "python",
   "pygments_lexer": "ipython3",
   "version": "3.13.0"
  }
 },
 "nbformat": 4,
 "nbformat_minor": 5
}
