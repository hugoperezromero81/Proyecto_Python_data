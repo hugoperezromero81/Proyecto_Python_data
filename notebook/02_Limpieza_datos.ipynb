{
 "cells": [
  {
   "cell_type": "markdown",
   "id": "ca6b8e5b",
   "metadata": {},
   "source": [
    "# 🧹 02_Limpieza de Datos\n"
   ]
  },
  {
   "cell_type": "markdown",
   "id": "3a33b225",
   "metadata": {},
   "source": [
    "\n",
    "En este notebook realizamos las tareas de limpieza necesarias para preparar los datasets \n",
    "**bank** y **customers** para el análisis exploratorio y modelos posteriores."
   ]
  },
  {
   "cell_type": "markdown",
   "id": "5412ff51",
   "metadata": {},
   "source": [
    "## Importación de librerías\n",
    "Cargamos las librerías necesarias:  \n",
    "- **pandas**: para manipulación de datos  \n",
    "- **numpy**: para valores nulos y operaciones numéricas  \n",
    "- **datetime**: para trabajar con variables de fecha"
   ]
  },
  {
   "cell_type": "code",
   "execution_count": 17,
   "id": "59d04a02",
   "metadata": {},
   "outputs": [],
   "source": [
    "# ==============================\n",
    "# Paso 0: Importación de librerías\n",
    "# ==============================\n",
    "import pandas as pd\n",
    "import numpy as np\n",
    "from datetime import datetime\n",
    "import os\n",
    "\n",
    "# Mostrar todas las columnas en pantalla\n",
    "pd.set_option(\"display.max_columns\", None)\n"
   ]
  },
  {
   "cell_type": "markdown",
   "id": "fad0b8e1",
   "metadata": {},
   "source": [
    "## Carga de datos\n",
    "Importamos los archivos desde la carpeta `data/Archivos_origen`.  \n",
    "- `customer-details.xlsx` contiene información demográfica y de comportamiento de clientes.  \n",
    "- `bank-additional.csv` contiene información de campañas de marketing bancario.  \n",
    "\n",
    "Usamos la primera columna como índice para eliminar `Unnamed: 0`."
   ]
  },
  {
   "cell_type": "code",
   "execution_count": 18,
   "id": "075c89a4",
   "metadata": {},
   "outputs": [
    {
     "name": "stdout",
     "output_type": "stream",
     "text": [
      "Datasets cargados correctamente ✅\n",
      "Dimensiones df_customer: (20115, 6)\n",
      "Dimensiones df_bank: (43000, 23)\n"
     ]
    }
   ],
   "source": [
    "\n",
    "ruta_customer = r\"C:\\Users\\HUGO\\Desktop\\Data Analyst\\09_PYTHON\\Proyecto_Python_Data\\data\\Archivos_origen\\customer-details.xlsx\"\n",
    "ruta_bank = r\"C:\\Users\\HUGO\\Desktop\\Data Analyst\\09_PYTHON\\Proyecto_Python_Data\\data\\Archivos_origen\\bank-additional.csv\"\n",
    "\n",
    "df_customer = pd.read_excel(ruta_customer, index_col=0)\n",
    "df_bank = pd.read_csv(ruta_bank, index_col=0, encoding=\"utf-8\")\n",
    "\n",
    "print(\"Datasets cargados correctamente ✅\")\n",
    "print(\"Dimensiones df_customer:\", df_customer.shape)\n",
    "print(\"Dimensiones df_bank:\", df_bank.shape)\n"
   ]
  },
  {
   "cell_type": "markdown",
   "id": "29698eff",
   "metadata": {},
   "source": [
    "## Tratamiento de valores 'unknown'\n",
    "En el dataset `bank` muchas variables categóricas contienen la categoría `unknown`.\n",
    "Estas representan datos faltantes. Vamos a reemplazarlas por `NaN` para identificarlas \n",
    "y poder decidir si imputarlas o tratarlas como categoría propia.\n",
    "\n",
    " \n"
   ]
  },
  {
   "cell_type": "code",
   "execution_count": 19,
   "id": "9a50622b",
   "metadata": {},
   "outputs": [],
   "source": [
    "df_bank.replace(\"unknown\", np.nan, inplace=True)\n",
    "\n"
   ]
  },
  {
   "cell_type": "markdown",
   "id": "8af07de6",
   "metadata": {},
   "source": [
    "## Eliminación de columnas irrelevantes\n",
    "En el dataset `customers`, la columna `id` podría ser solo un identificador y no aporta información.\n",
    "Para evitar errores en caso de que no exista, usamos `errors=\"ignore\"`.\n",
    "\n"
   ]
  },
  {
   "cell_type": "code",
   "execution_count": 20,
   "id": "71758b4c",
   "metadata": {},
   "outputs": [],
   "source": [
    "df_customer = df_customer.drop(columns=[\"id\"], errors=\"ignore\")\n",
    "\n"
   ]
  },
  {
   "cell_type": "markdown",
   "id": "d2a28091",
   "metadata": {},
   "source": [
    "## Variables derivadas de fechas\n",
    "De la columna `dt_customer` en `customers` extraemos:\n",
    "- Año de alta\n",
    "- Mes de alta\n",
    "- Antigüedad en días\n",
    "Esto nos permitirá analizar patrones temporales en la base de clientes.\n"
   ]
  },
  {
   "cell_type": "code",
   "execution_count": 21,
   "id": "33c808d4",
   "metadata": {},
   "outputs": [],
   "source": [
    "if \"dt_customer\" in df_customer.columns:\n",
    "    hoy = datetime.today()\n",
    "    df_customer[\"anio_alta\"] = df_customer[\"dt_customer\"].dt.year\n",
    "    df_customer[\"mes_alta\"] = df_customer[\"dt_customer\"].dt.month\n",
    "    df_customer[\"antiguedad_dias\"] = (hoy - df_customer[\"dt_customer\"]).dt.days\n"
   ]
  },
  {
   "cell_type": "markdown",
   "id": "00f0998b",
   "metadata": {},
   "source": [
    "## Detección y tratamiento de outliers\n",
    "En variables numéricas como `income` (customers) o `duration` (bank), \n",
    "existen valores extremos que pueden distorsionar el análisis.\n",
    "Utilizamos el rango intercuartílico (IQR) para detectarlos y marcarlos.\n"
   ]
  },
  {
   "cell_type": "code",
   "execution_count": 22,
   "id": "06db93fc",
   "metadata": {},
   "outputs": [],
   "source": [
    "def marcar_outliers(df, columna):\n",
    "    Q1 = df[columna].quantile(0.25)\n",
    "    Q3 = df[columna].quantile(0.75)\n",
    "    IQR = Q3 - Q1\n",
    "    limite_inferior = Q1 - 1.5 * IQR\n",
    "    limite_superior = Q3 + 1.5 * IQR\n",
    "    return df[columna].apply(lambda x: x < limite_inferior or x > limite_superior)\n",
    "\n",
    "# Si existen estas columnas, marcamos outliers\n",
    "if \"income\" in df_customer.columns:\n",
    "    df_customer[\"outlier_income\"] = marcar_outliers(df_customer, \"income\")\n",
    "\n",
    "if \"duration\" in df_bank.columns:\n",
    "    df_bank[\"outlier_duration\"] = marcar_outliers(df_bank, \"duration\")\n"
   ]
  },
  {
   "cell_type": "markdown",
   "id": "be536306",
   "metadata": {},
   "source": [
    "## Normalización de texto en categóricas\n",
    "En `bank`, homogenizamos las variables categóricas para evitar inconsistencias:\n",
    "- Pasamos todo a minúsculas.\n",
    "- Eliminamos espacios extra.\n"
   ]
  },
  {
   "cell_type": "code",
   "execution_count": 23,
   "id": "7b9c4a72",
   "metadata": {},
   "outputs": [],
   "source": [
    "for col in df_bank.select_dtypes(include=\"object\").columns:\n",
    "    df_bank[col] = df_bank[col].astype(str).str.strip().str.lower()\n"
   ]
  }
 ],
 "metadata": {
  "kernelspec": {
   "display_name": "Python 3",
   "language": "python",
   "name": "python3"
  },
  "language_info": {
   "codemirror_mode": {
    "name": "ipython",
    "version": 3
   },
   "file_extension": ".py",
   "mimetype": "text/x-python",
   "name": "python",
   "nbconvert_exporter": "python",
   "pygments_lexer": "ipython3",
   "version": "3.13.0"
  }
 },
 "nbformat": 4,
 "nbformat_minor": 5
}
